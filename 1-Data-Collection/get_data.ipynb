{
 "cells": [
  {
   "cell_type": "markdown",
   "metadata": {},
   "source": [
    "<h1 style=\"color: orange;\">NASA API</h1>\n",
    "\n",
    "**Example:**\n",
    "1. Fetching one new image per class (e.g., \"galaxy\") using the NASA API.\n",
    "2. Avoiding duplicate downloads by maintaining a record of downloaded URLs.\n",
    "3. Scalability to `.py` scripts."
   ]
  },
  {
   "cell_type": "code",
   "execution_count": 27,
   "metadata": {},
   "outputs": [],
   "source": [
    "import requests\n",
    "import os\n",
    "import glob\n",
    "import matplotlib.pyplot as plt"
   ]
  },
  {
   "cell_type": "code",
   "execution_count": null,
   "metadata": {},
   "outputs": [],
   "source": [
    "# Save your Key somewhere\n",
    "API_KEY = \"\""
   ]
  },
  {
   "cell_type": "code",
   "execution_count": 12,
   "metadata": {},
   "outputs": [],
   "source": [
    "if not API_KEY:\n",
    "    raise ValueError(\"No NASA API key found. Please set the NASA_API_KEY environment variable.\")"
   ]
  },
  {
   "cell_type": "markdown",
   "metadata": {},
   "source": [
    "<h1 style=\"color: orange;\">Function to Fetch & Save</h1>\n",
    "\n",
    "This function will:\n",
    "- Query the NASA Image Library for a specific class (e.g., \"galaxy\").\n",
    "- Save the first image from the results."
   ]
  },
  {
   "cell_type": "code",
   "execution_count": 18,
   "metadata": {},
   "outputs": [],
   "source": [
    "# Directory to save images and data location\n",
    "BASE_URL = \"https://images-api.nasa.gov/search\"\n",
    "os.makedirs(SAVE_DIR, exist_ok=True)"
   ]
  },
  {
   "cell_type": "code",
   "execution_count": 23,
   "metadata": {},
   "outputs": [],
   "source": [
    "def fetch_images(query, save_dir, downloaded_urls, max_images=5):\n",
    "    \"\"\"\n",
    "    Fetch and save multiple new images for the given query.\n",
    "\n",
    "    Parameters:\n",
    "        - query: The class to search for (e.g., \"galaxy\").\n",
    "        - save_dir: Directory to save the images.\n",
    "        - downloaded_urls: Set of previously downloaded URLs to avoid duplicates.\n",
    "        - max_images: Maximum number of images to download for the query.\n",
    "    \"\"\"\n",
    "    page = 1\n",
    "    downloaded_count = 0\n",
    "\n",
    "    while downloaded_count < max_images:\n",
    "        params = {\n",
    "            \"q\": query,\n",
    "            \"media_type\": \"image\",\n",
    "            \"page\": page\n",
    "        }\n",
    "        response = requests.get(BASE_URL, params=params)\n",
    "        response.raise_for_status()\n",
    "        data = response.json()\n",
    "\n",
    "        # Get items from the current page\n",
    "        items = data.get(\"collection\", {}).get(\"items\", [])\n",
    "        if not items:\n",
    "            print(f\"No more results for query: {query}\")\n",
    "            break\n",
    "\n",
    "        for item in items:\n",
    "            links = item.get(\"links\", [])\n",
    "            for link in links:\n",
    "                image_url = link.get(\"href\")\n",
    "                if image_url and image_url not in downloaded_urls:\n",
    "                    # Download and save the image\n",
    "                    title = item[\"data\"][0][\"title\"].replace(' ', '_').replace('/', '_')\n",
    "                    image_name = f\"{title}.jpg\"\n",
    "                    image_path = os.path.join(save_dir, image_name)\n",
    "\n",
    "                    try:\n",
    "                        img_data = requests.get(image_url).content\n",
    "                        with open(image_path, \"wb\") as img_file:\n",
    "                            img_file.write(img_data)\n",
    "                        downloaded_urls.add(image_url)  # Add to the set of downloaded URLs\n",
    "                        downloaded_count += 1\n",
    "                        print(f\"Image saved: {image_name}\")\n",
    "                        if downloaded_count >= max_images:\n",
    "                            return  # Stop after downloading the maximum number of images\n",
    "                    except Exception as e:\n",
    "                        print(f\"Failed to save the image: {e}\")\n",
    "        page += 1\n",
    "    print(f\"Downloaded {downloaded_count} images for query: {query}\")"
   ]
  },
  {
   "cell_type": "markdown",
   "metadata": {},
   "source": [
    "<h1 style=\"color: orange;\">Fetch and Save an Image</h1>\n",
    "\n",
    "We will now fetch and save one image for the specified class."
   ]
  },
  {
   "cell_type": "code",
   "execution_count": 20,
   "metadata": {},
   "outputs": [],
   "source": [
    "# Initialize save directory and downloaded URLs\n",
    "SAVE_DIR = \"./nasa_images\"\n",
    "os.makedirs(SAVE_DIR, exist_ok=True)\n",
    "downloaded_urls = set()  # Store downloaded image URLs"
   ]
  },
  {
   "cell_type": "code",
   "execution_count": 21,
   "metadata": {},
   "outputs": [
    {
     "name": "stdout",
     "output_type": "stream",
     "text": [
      "Image saved: Andromeda_Galaxy.jpg\n"
     ]
    },
    {
     "data": {
      "text/plain": [
       "True"
      ]
     },
     "execution_count": 21,
     "metadata": {},
     "output_type": "execute_result"
    }
   ],
   "source": [
    "# Specify a query and fetch one new image\n",
    "class_name = \"galaxy\"\n",
    "fetch_one_image(class_name, SAVE_DIR, downloaded_urls)"
   ]
  },
  {
   "cell_type": "markdown",
   "metadata": {},
   "source": [
    "Now, we fetch one new image for each class, ensuring no duplicates."
   ]
  },
  {
   "cell_type": "code",
   "execution_count": 22,
   "metadata": {},
   "outputs": [
    {
     "name": "stdout",
     "output_type": "stream",
     "text": [
      "Fetching one image for class: galaxy\n",
      "Image saved: Galaxy_NGC5474.jpg\n",
      "Fetching one image for class: nebula\n",
      "Image saved: Weighing_in_on_the_Dumbbell_Nebula.jpg\n",
      "Fetching one image for class: planet\n",
      "Image saved: Proposed_Missions_-_Terrestrial_Planet_Finder.jpg\n",
      "Fetching one image for class: star\n",
      "Image saved: Hubble_Observes_One-of-a-Kind_Star_Nicknamed_‘Nasty’.jpg\n",
      "Fetching one image for class: comet\n",
      "Image saved: Rosetta_at_Comet.jpg\n",
      "Fetching one image for class: asteroid\n",
      "Image saved: Asteroid_Lithograph_of_Eros_and_Other_Asteroids.jpg\n",
      "Fetching one image for class: black hole\n",
      "Image saved: Behemoth_Black_Hole_Found_in_an_Unlikely_Place.jpg\n"
     ]
    }
   ],
   "source": [
    "# Fetch one new image for each class\n",
    "classes = [\"galaxy\", \"nebula\", \"planet\", \"star\", \"comet\", \"asteroid\", \"black hole\"]\n",
    "\n",
    "for class_name in classes:\n",
    "    print(f\"Fetching one image for class: {class_name}\")\n",
    "    success = fetch_one_image(class_name, SAVE_DIR, downloaded_urls)\n",
    "    if not success:\n",
    "        print(f\"No new images available for class: {class_name}\")"
   ]
  }
 ],
 "metadata": {
  "kernelspec": {
   "display_name": "Python 3 (ipykernel)",
   "language": "python",
   "name": "python3"
  },
  "language_info": {
   "codemirror_mode": {
    "name": "ipython",
    "version": 3
   },
   "file_extension": ".py",
   "mimetype": "text/x-python",
   "name": "python",
   "nbconvert_exporter": "python",
   "pygments_lexer": "ipython3",
   "version": "3.13.0"
  }
 },
 "nbformat": 4,
 "nbformat_minor": 4
}
