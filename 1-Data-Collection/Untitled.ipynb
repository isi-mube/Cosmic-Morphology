{
 "cells": [
  {
   "cell_type": "code",
   "execution_count": 4,
   "id": "3b5b5035-11cb-459e-8675-1f7db9c85d36",
   "metadata": {},
   "outputs": [
    {
     "data": {
      "text/plain": [
       "range"
      ]
     },
     "execution_count": 4,
     "metadata": {},
     "output_type": "execute_result"
    }
   ],
   "source": [
    "type(range(5))"
   ]
  },
  {
   "cell_type": "code",
   "execution_count": 3,
   "id": "d6f72a3c-d25d-4a7b-a8b7-6f430d0de71f",
   "metadata": {},
   "outputs": [
    {
     "data": {
      "text/plain": [
       "[0, 1, 2, 3, 4]"
      ]
     },
     "execution_count": 3,
     "metadata": {},
     "output_type": "execute_result"
    }
   ],
   "source": [
    "empty = []\n",
    "\n",
    "for i in range(5):\n",
    "    empty.append(i)\n",
    "\n",
    "empty"
   ]
  },
  {
   "cell_type": "code",
   "execution_count": 9,
   "id": "801429c9-4da1-427a-acbc-849f93350d42",
   "metadata": {},
   "outputs": [
    {
     "data": {
      "text/plain": [
       "[0, 2, 4, 6, 8]"
      ]
     },
     "execution_count": 9,
     "metadata": {},
     "output_type": "execute_result"
    }
   ],
   "source": [
    "empty2 = [x*2 for x in range(5)]\n",
    "empty2"
   ]
  },
  {
   "cell_type": "code",
   "execution_count": 10,
   "id": "e7c77aee-1d16-45ab-9e6c-8eb6126fdd6d",
   "metadata": {},
   "outputs": [
    {
     "ename": "NameError",
     "evalue": "name 'dict_1' is not defined",
     "output_type": "error",
     "traceback": [
      "\u001b[0;31m---------------------------------------------------------------------------\u001b[0m",
      "\u001b[0;31mNameError\u001b[0m                                 Traceback (most recent call last)",
      "Cell \u001b[0;32mIn[10], line 1\u001b[0m\n\u001b[0;32m----> 1\u001b[0m \u001b[43mdict_1\u001b[49m[\u001b[38;5;124m\"\u001b[39m\u001b[38;5;124misi\u001b[39m\u001b[38;5;124m\"\u001b[39m]\n",
      "\u001b[0;31mNameError\u001b[0m: name 'dict_1' is not defined"
     ]
    }
   ],
   "source": [
    "dict_1[\"isi\"]"
   ]
  },
  {
   "cell_type": "code",
   "execution_count": null,
   "id": "b3bc3575-338e-43d5-a651-a2014747118b",
   "metadata": {},
   "outputs": [],
   "source": [
    "dict_1.get(\"isi\")"
   ]
  },
  {
   "cell_type": "code",
   "execution_count": null,
   "id": "8ddef8d5-4e9a-405b-8070-ae280a492d63",
   "metadata": {},
   "outputs": [],
   "source": [
    "def whatever()\n",
    "    return a, b, c"
   ]
  },
  {
   "cell_type": "code",
   "execution_count": 11,
   "id": "f7f5e36f-4eeb-45e8-ab01-f80cbc8a5cb9",
   "metadata": {},
   "outputs": [],
   "source": [
    "word = \"isi\""
   ]
  },
  {
   "cell_type": "code",
   "execution_count": 13,
   "id": "a4473329-8f49-46c9-81fa-feda0367ca9b",
   "metadata": {},
   "outputs": [
    {
     "ename": "TypeError",
     "evalue": "'str' object does not support item assignment",
     "output_type": "error",
     "traceback": [
      "\u001b[0;31m---------------------------------------------------------------------------\u001b[0m",
      "\u001b[0;31mTypeError\u001b[0m                                 Traceback (most recent call last)",
      "Cell \u001b[0;32mIn[13], line 1\u001b[0m\n\u001b[0;32m----> 1\u001b[0m \u001b[43mword\u001b[49m\u001b[43m[\u001b[49m\u001b[38;5;241;43m0\u001b[39;49m\u001b[43m]\u001b[49m \u001b[38;5;241m=\u001b[39m \u001b[38;5;124m\"\u001b[39m\u001b[38;5;124mb\u001b[39m\u001b[38;5;124m\"\u001b[39m\n",
      "\u001b[0;31mTypeError\u001b[0m: 'str' object does not support item assignment"
     ]
    }
   ],
   "source": [
    "word[0] = \"b\""
   ]
  },
  {
   "cell_type": "code",
   "execution_count": 15,
   "id": "e64aa36c-f4ab-4aef-9e48-c9eb7b66f90e",
   "metadata": {},
   "outputs": [
    {
     "data": {
      "text/plain": [
       "True"
      ]
     },
     "execution_count": 15,
     "metadata": {},
     "output_type": "execute_result"
    }
   ],
   "source": [
    "1 == True"
   ]
  },
  {
   "cell_type": "code",
   "execution_count": null,
   "id": "438eddad-4db6-4b5d-98d2-efdfb7033bf3",
   "metadata": {},
   "outputs": [],
   "source": [
    "0, 1"
   ]
  },
  {
   "cell_type": "code",
   "execution_count": 16,
   "id": "529c8e04-75ec-4ee1-938d-ae234acc726b",
   "metadata": {},
   "outputs": [
    {
     "data": {
      "text/plain": [
       "1"
      ]
     },
     "execution_count": 16,
     "metadata": {},
     "output_type": "execute_result"
    }
   ],
   "source": [
    "True * 1"
   ]
  },
  {
   "cell_type": "code",
   "execution_count": null,
   "id": "9dcd8346-737e-4afa-bca8-dbf7c8c7579c",
   "metadata": {},
   "outputs": [],
   "source": [
    "    list."
   ]
  },
  {
   "cell_type": "code",
   "execution_count": null,
   "id": "0abccf01-2954-40e4-833e-0fe8727f8f65",
   "metadata": {},
   "outputs": [],
   "source": [
    "git add solved_lab.ipynb\n",
    "git commit -m \"amazing messages comes here\"\n",
    "git push"
   ]
  },
  {
   "cell_type": "code",
   "execution_count": 20,
   "id": "4f66688a-cbca-40d1-8c31-f073b852064c",
   "metadata": {},
   "outputs": [
    {
     "data": {
      "text/plain": [
       "['Hello', 'World']"
      ]
     },
     "execution_count": 20,
     "metadata": {},
     "output_type": "execute_result"
    }
   ],
   "source": [
    "\"Hello, World\".split(\", \")"
   ]
  }
 ],
 "metadata": {
  "kernelspec": {
   "display_name": "Python 3 (ipykernel)",
   "language": "python",
   "name": "python3"
  },
  "language_info": {
   "codemirror_mode": {
    "name": "ipython",
    "version": 3
   },
   "file_extension": ".py",
   "mimetype": "text/x-python",
   "name": "python",
   "nbconvert_exporter": "python",
   "pygments_lexer": "ipython3",
   "version": "3.13.0"
  }
 },
 "nbformat": 4,
 "nbformat_minor": 5
}
