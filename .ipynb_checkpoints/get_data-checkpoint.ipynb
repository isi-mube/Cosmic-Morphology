{
 "cells": [
  {
   "cell_type": "markdown",
   "metadata": {},
   "source": [
    "<h1 style=\"color: orange;\">NASA API</h1>\n",
    "\n",
    "**Example:**\n",
    "1. Fetching one new image per class (e.g., \"galaxy\") using the NASA API.\n",
    "2. Avoiding duplicate downloads by maintaining a record of downloaded URLs.\n",
    "3. Scalability to `.py` scripts."
   ]
  },
  {
   "cell_type": "code",
   "execution_count": 27,
   "metadata": {},
   "outputs": [],
   "source": [
    "import requests\n",
    "import os\n",
    "import glob\n",
    "import matplotlib.pyplot as plt"
   ]
  },
  {
   "cell_type": "code",
   "execution_count": 11,
   "metadata": {},
   "outputs": [],
   "source": [
    "# Save your Key somewhere\n",
    "API_KEY = \"wzazXOFmb7K0Uw2TRgSsjxUieOJ95rdAKw5ooQGP\""
   ]
  },
  {
   "cell_type": "code",
   "execution_count": 12,
   "metadata": {},
   "outputs": [],
   "source": [
    "if not API_KEY:\n",
    "    raise ValueError(\"No NASA API key found. Please set the NASA_API_KEY environment variable.\")"
   ]
  },
  {
   "cell_type": "markdown",
   "metadata": {},
   "source": [
    "<h1 style=\"color: orange;\">Function to Fetch & Save</h1>\n",
    "\n",
    "This function will:\n",
    "- Query the NASA Image Library for a specific class (e.g., \"galaxy\").\n",
    "- Save the first image from the results."
   ]
  },
  {
   "cell_type": "code",
   "execution_count": 18,
   "metadata": {},
   "outputs": [],
   "source": [
    "# Directory to save images and data location\n",
    "BASE_URL = \"https://images-api.nasa.gov/search\"\n",
    "os.makedirs(SAVE_DIR, exist_ok=True)"
   ]
  },
  {
   "cell_type": "code",
   "execution_count": 23,
   "metadata": {},
   "outputs": [],
   "source": [
    "def fetch_images(query, save_dir, downloaded_urls, max_images=5):\n",
    "    \"\"\"\n",
    "    Fetch and save multiple new images for the given query.\n",
    "\n",
    "    Parameters:\n",
    "        - query: The class to search for (e.g., \"galaxy\").\n",
    "        - save_dir: Directory to save the images.\n",
    "        - downloaded_urls: Set of previously downloaded URLs to avoid duplicates.\n",
    "        - max_images: Maximum number of images to download for the query.\n",
    "    \"\"\"\n",
    "    page = 1\n",
    "    downloaded_count = 0\n",
    "\n",
    "    while downloaded_count < max_images:\n",
    "        params = {\n",
    "            \"q\": query,\n",
    "            \"media_type\": \"image\",\n",
    "            \"page\": page\n",
    "        }\n",
    "        response = requests.get(BASE_URL, params=params)\n",
    "        response.raise_for_status()\n",
    "        data = response.json()\n",
    "\n",
    "        # Get items from the current page\n",
    "        items = data.get(\"collection\", {}).get(\"items\", [])\n",
    "        if not items:\n",
    "            print(f\"No more results for query: {query}\")\n",
    "            break\n",
    "\n",
    "        for item in items:\n",
    "            links = item.get(\"links\", [])\n",
    "            for link in links:\n",
    "                image_url = link.get(\"href\")\n",
    "                if image_url and image_url not in downloaded_urls:\n",
    "                    # Download and save the image\n",
    "                    title = item[\"data\"][0][\"title\"].replace(' ', '_').replace('/', '_')\n",
    "                    image_name = f\"{title}.jpg\"\n",
    "                    image_path = os.path.join(save_dir, image_name)\n",
    "\n",
    "                    try:\n",
    "                        img_data = requests.get(image_url).content\n",
    "                        with open(image_path, \"wb\") as img_file:\n",
    "                            img_file.write(img_data)\n",
    "                        downloaded_urls.add(image_url)  # Add to the set of downloaded URLs\n",
    "                        downloaded_count += 1\n",
    "                        print(f\"Image saved: {image_name}\")\n",
    "                        if downloaded_count >= max_images:\n",
    "                            return  # Stop after downloading the maximum number of images\n",
    "                    except Exception as e:\n",
    "                        print(f\"Failed to save the image: {e}\")\n",
    "        page += 1\n",
    "    print(f\"Downloaded {downloaded_count} images for query: {query}\")"
   ]
  },
  {
   "cell_type": "markdown",
   "metadata": {},
   "source": [
    "## Step 3: Fetch and Save an Image\n",
    "We will now fetch and save one image for the specified class."
   ]
  },
  {
   "cell_type": "code",
   "execution_count": 20,
   "metadata": {},
   "outputs": [],
   "source": [
    "# Initialize save directory and downloaded URLs\n",
    "SAVE_DIR = \"./nasa_images\"\n",
    "os.makedirs(SAVE_DIR, exist_ok=True)\n",
    "downloaded_urls = set()  # Store downloaded image URLs"
   ]
  },
  {
   "cell_type": "code",
   "execution_count": 21,
   "metadata": {},
   "outputs": [
    {
     "name": "stdout",
     "output_type": "stream",
     "text": [
      "Image saved: Andromeda_Galaxy.jpg\n"
     ]
    },
    {
     "data": {
      "text/plain": [
       "True"
      ]
     },
     "execution_count": 21,
     "metadata": {},
     "output_type": "execute_result"
    }
   ],
   "source": [
    "# Specify a query and fetch one new image\n",
    "class_name = \"galaxy\"\n",
    "fetch_one_image(class_name, SAVE_DIR, downloaded_urls)"
   ]
  },
  {
   "cell_type": "markdown",
   "metadata": {},
   "source": [
    "## Fetch One Image per Class\n",
    "Now, we fetch one new image for each class, ensuring no duplicates."
   ]
  },
  {
   "cell_type": "code",
   "execution_count": 22,
   "metadata": {},
   "outputs": [
    {
     "name": "stdout",
     "output_type": "stream",
     "text": [
      "Fetching one image for class: galaxy\n",
      "Image saved: Galaxy_NGC5474.jpg\n",
      "Fetching one image for class: nebula\n",
      "Image saved: Weighing_in_on_the_Dumbbell_Nebula.jpg\n",
      "Fetching one image for class: planet\n",
      "Image saved: Proposed_Missions_-_Terrestrial_Planet_Finder.jpg\n",
      "Fetching one image for class: star\n",
      "Image saved: Hubble_Observes_One-of-a-Kind_Star_Nicknamed_‘Nasty’.jpg\n",
      "Fetching one image for class: comet\n",
      "Image saved: Rosetta_at_Comet.jpg\n",
      "Fetching one image for class: asteroid\n",
      "Image saved: Asteroid_Lithograph_of_Eros_and_Other_Asteroids.jpg\n",
      "Fetching one image for class: black hole\n",
      "Image saved: Behemoth_Black_Hole_Found_in_an_Unlikely_Place.jpg\n"
     ]
    }
   ],
   "source": [
    "# Fetch one new image for each class\n",
    "classes = [\"galaxy\", \"nebula\", \"planet\", \"star\", \"comet\", \"asteroid\", \"black hole\"]\n",
    "\n",
    "for class_name in classes:\n",
    "    print(f\"Fetching one image for class: {class_name}\")\n",
    "    success = fetch_one_image(class_name, SAVE_DIR, downloaded_urls)\n",
    "    if not success:\n",
    "        print(f\"No new images available for class: {class_name}\")"
   ]
  },
  {
   "cell_type": "code",
   "execution_count": 25,
   "metadata": {},
   "outputs": [],
   "source": [
    "def plot_images(image_dir, n_images=5):\n",
    "    \"\"\"\n",
    "    Plot a specified number of images from a directory.\n",
    "\n",
    "    Parameters:\n",
    "        - image_dir: Path to the directory containing images.\n",
    "        - n_images: Number of images to display.\n",
    "    \"\"\"\n",
    "    # Get a list of image files\n",
    "    image_files = glob.glob(os.path.join(image_dir, \"*.jpg\"))\n",
    "    image_files = image_files[:n_images]  # Limit to n_images\n",
    "\n",
    "    # Create a grid to display images\n",
    "    fig, axes = plt.subplots(1, len(image_files), figsize=(15, 5))\n",
    "    if len(image_files) == 1:\n",
    "        axes = [axes]  # Ensure axes is iterable for a single image\n",
    "\n",
    "    for ax, img_path in zip(axes, image_files):\n",
    "        img = Image.open(img_path)\n",
    "        ax.imshow(img)\n",
    "        ax.axis(\"off\")  # Hide axis\n",
    "\n",
    "    plt.tight_layout()\n",
    "    plt.show()"
   ]
  },
  {
   "cell_type": "code",
   "execution_count": 28,
   "metadata": {},
   "outputs": [
    {
     "ename": "NameError",
     "evalue": "name 'Image' is not defined",
     "output_type": "error",
     "traceback": [
      "\u001b[0;31m---------------------------------------------------------------------------\u001b[0m",
      "\u001b[0;31mNameError\u001b[0m                                 Traceback (most recent call last)",
      "Cell \u001b[0;32mIn[28], line 3\u001b[0m\n\u001b[1;32m      1\u001b[0m \u001b[38;5;66;03m# Plot images from a specific class directory\u001b[39;00m\n\u001b[1;32m      2\u001b[0m class_dir \u001b[38;5;241m=\u001b[39m os\u001b[38;5;241m.\u001b[39mpath\u001b[38;5;241m.\u001b[39mjoin(SAVE_DIR, \u001b[38;5;124m\"\u001b[39m\u001b[38;5;124mgalaxy\u001b[39m\u001b[38;5;124m\"\u001b[39m)  \u001b[38;5;66;03m# Example: Galaxy images\u001b[39;00m\n\u001b[0;32m----> 3\u001b[0m \u001b[43mplot_images\u001b[49m\u001b[43m(\u001b[49m\u001b[43mclass_dir\u001b[49m\u001b[43m,\u001b[49m\u001b[43m \u001b[49m\u001b[43mn_images\u001b[49m\u001b[38;5;241;43m=\u001b[39;49m\u001b[38;5;241;43m5\u001b[39;49m\u001b[43m)\u001b[49m\n",
      "Cell \u001b[0;32mIn[25], line 19\u001b[0m, in \u001b[0;36mplot_images\u001b[0;34m(image_dir, n_images)\u001b[0m\n\u001b[1;32m     16\u001b[0m     axes \u001b[38;5;241m=\u001b[39m [axes]  \u001b[38;5;66;03m# Ensure axes is iterable for a single image\u001b[39;00m\n\u001b[1;32m     18\u001b[0m \u001b[38;5;28;01mfor\u001b[39;00m ax, img_path \u001b[38;5;129;01min\u001b[39;00m \u001b[38;5;28mzip\u001b[39m(axes, image_files):\n\u001b[0;32m---> 19\u001b[0m     img \u001b[38;5;241m=\u001b[39m \u001b[43mImage\u001b[49m\u001b[38;5;241m.\u001b[39mopen(img_path)\n\u001b[1;32m     20\u001b[0m     ax\u001b[38;5;241m.\u001b[39mimshow(img)\n\u001b[1;32m     21\u001b[0m     ax\u001b[38;5;241m.\u001b[39maxis(\u001b[38;5;124m\"\u001b[39m\u001b[38;5;124moff\u001b[39m\u001b[38;5;124m\"\u001b[39m)  \u001b[38;5;66;03m# Hide axis\u001b[39;00m\n",
      "\u001b[0;31mNameError\u001b[0m: name 'Image' is not defined"
     ]
    },
    {
     "data": {
      "image/png": "[encoded data removed]",
      "text/plain": [
       "<Figure size 1500x500 with 5 Axes>"
      ]
     },
     "metadata": {},
     "output_type": "display_data"
    }
   ],
   "source": [
    "# Plot images from a specific class directory\n",
    "class_dir = os.path.join(SAVE_DIR, \"galaxy\")  # Example: Galaxy images\n",
    "plot_images(class_dir, n_images=5)"
   ]
  }
 ],
 "metadata": {
  "kernelspec": {
   "display_name": "Python 3 (ipykernel)",
   "language": "python",
   "name": "python3"
  },
  "language_info": {
   "codemirror_mode": {
    "name": "ipython",
    "version": 3
   },
   "file_extension": ".py",
   "mimetype": "text/x-python",
   "name": "python",
   "nbconvert_exporter": "python",
   "pygments_lexer": "ipython3",
   "version": "3.13.0"
  }
 },
 "nbformat": 4,
 "nbformat_minor": 4
}
