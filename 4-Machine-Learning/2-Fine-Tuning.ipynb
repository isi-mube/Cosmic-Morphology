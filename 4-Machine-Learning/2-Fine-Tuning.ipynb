{
 "cells": [
  {
   "cell_type": "code",
   "execution_count": null,
   "metadata": {},
   "outputs": [],
   "source": [
    "import os\n",
    "import time\n",
    "import json\n",
    "import copy\n",
    "import numpy as np\n",
    "import matplotlib.pyplot as plt\n",
    "from utils import train, plot_history\n",
    "import torch\n",
    "from torchvision import models, transforms, datasets\n",
    "from torch.utils.data import DataLoader\n",
    "from torch import nn, optim\n",
    "from torch.optim import lr_scheduler"
   ]
  },
  {
   "cell_type": "code",
   "execution_count": 16,
   "metadata": {},
   "outputs": [
    {
     "name": "stdout",
     "output_type": "stream",
     "text": [
      "Using device: cpu\n"
     ]
    }
   ],
   "source": [
    "# Check device (GPU or CPU)\n",
    "device = torch.device(\"cuda\" if torch.cuda.is_available() else \"cpu\")\n",
    "print(f\"Using device: {device}\")"
   ]
  },
  {
   "cell_type": "markdown",
   "metadata": {},
   "source": [
    "<h1 style=\"color: orange;\">Paths</h1>"
   ]
  },
  {
   "cell_type": "code",
   "execution_count": 17,
   "metadata": {},
   "outputs": [],
   "source": [
    "current_path = os.getcwd()\n",
    "current_path = os.path.dirname(current_path)\n",
    "data_dir = os.path.join(current_path, \"3-Train-Val-Test-Split\")\n",
    "model_save_path = os.path.join(current_path, \"4-Machine-Learning/Base-Model/fine_tuned_model.pth\")\n",
    "history_save_path = os.path.join(current_path, \"4-Machine-Learning/Base-Model/fine_tune_history.json\")"
   ]
  },
  {
   "cell_type": "code",
   "execution_count": 18,
   "metadata": {},
   "outputs": [
    {
     "data": {
      "text/plain": [
       "'/Users/isi.mube/Ironhack/Data-Curriculum/DSML-Master/Cosmic-Morphology'"
      ]
     },
     "execution_count": 18,
     "metadata": {},
     "output_type": "execute_result"
    }
   ],
   "source": [
    "current_path"
   ]
  },
  {
   "cell_type": "markdown",
   "metadata": {},
   "source": [
    "<h1 style=\"color: orange;\">Data Augmentation & Processing</h1>"
   ]
  },
  {
   "cell_type": "code",
   "execution_count": 19,
   "metadata": {},
   "outputs": [],
   "source": [
    "# Image size expected by the ResNet50 model\n",
    "input_size = 224\n",
    "\n",
    "# Define data transformations for train, val, and test\n",
    "data_transforms = {\n",
    "    'train': transforms.Compose([\n",
    "        transforms.RandomResizedCrop(input_size),  # Random cropping and resizing\n",
    "        transforms.RandomHorizontalFlip(p=0.5),  # Flip images horizontally\n",
    "        transforms.RandomVerticalFlip(p=0.5),  # Flip images vertically\n",
    "        transforms.RandomRotation(degrees=45),  # Rotate images randomly within ±45 degrees\n",
    "        transforms.ColorJitter(brightness=0.2, contrast=0.2, saturation=0.2, hue=0.1),  # Brightness, contrast, etc.\n",
    "        transforms.RandomAffine(\n",
    "            degrees=15,  # Rotate within ±15 degrees\n",
    "            translate=(0.1, 0.1),  # Small translations\n",
    "            scale=(0.9, 1.1),  # Zoom in/out\n",
    "            shear=10  # Shearing\n",
    "        ),\n",
    "        transforms.GaussianBlur(kernel_size=3, sigma=(0.1, 2.0)),  # Slight blurring\n",
    "        transforms.ToTensor(),  # Convert image to tensor\n",
    "        transforms.Normalize([0.485, 0.456, 0.406], [0.229, 0.224, 0.225])  # Normalize for ResNet50\n",
    "    ]),\n",
    "    'val': transforms.Compose([\n",
    "        transforms.Resize(int(input_size * 1.1)),  # Resize larger to allow for cropping\n",
    "        transforms.CenterCrop(input_size),  # Center crop to 224x224\n",
    "        transforms.ToTensor(),\n",
    "        transforms.Normalize([0.485, 0.456, 0.406], [0.229, 0.224, 0.225])\n",
    "    ]),\n",
    "    'test': transforms.Compose([\n",
    "        transforms.Resize(int(input_size * 1.1)),  # Resize larger to allow for cropping\n",
    "        transforms.CenterCrop(input_size),  # Center crop to 224x224\n",
    "        transforms.ToTensor(),\n",
    "        transforms.Normalize([0.485, 0.456, 0.406], [0.229, 0.224, 0.225])\n",
    "    ]),\n",
    "}"
   ]
  },
  {
   "cell_type": "markdown",
   "metadata": {},
   "source": [
    "<h1 style=\"color: orange;\">Data Loading</h1>"
   ]
  },
  {
   "cell_type": "code",
   "execution_count": 20,
   "metadata": {},
   "outputs": [],
   "source": [
    "image_datasets = {\n",
    "    phase: datasets.ImageFolder(\n",
    "        os.path.join(data_dir, phase), \n",
    "        transform=data_transforms[phase]\n",
    "    )\n",
    "    for phase in ['train', 'val', 'test']\n",
    "}"
   ]
  },
  {
   "cell_type": "markdown",
   "metadata": {},
   "source": [
    "<h1 style=\"color: orange;\">Data Augmentation & Processing</h1>"
   ]
  },
  {
   "cell_type": "code",
   "execution_count": 23,
   "metadata": {},
   "outputs": [],
   "source": [
    "batch_size = 64  # Adjust based on available memory\n",
    "dataloaders = {\n",
    "    phase: DataLoader(\n",
    "        image_datasets[phase],\n",
    "        batch_size=batch_size,\n",
    "        shuffle=(phase == 'train'),  # Shuffle only the training set\n",
    "        num_workers=2  # Adjust based on your system capabilities\n",
    "    )\n",
    "    for phase in ['train', 'val', 'test']\n",
    "}"
   ]
  },
  {
   "cell_type": "code",
   "execution_count": 24,
   "metadata": {},
   "outputs": [
    {
     "name": "stdout",
     "output_type": "stream",
     "text": [
      "Classes: ['asteroid', 'comet', 'galaxy', 'nebula', 'planet', 'star']\n",
      "Dataset sizes: {'train': 1800, 'val': 600, 'test': 600}\n"
     ]
    }
   ],
   "source": [
    "dataset_sizes = {phase: len(image_datasets[phase]) for phase in ['train', 'val', 'test']}\n",
    "class_names = image_datasets['train'].classes\n",
    "\n",
    "print(\"Classes:\", class_names)\n",
    "print(\"Dataset sizes:\", dataset_sizes)"
   ]
  },
  {
   "cell_type": "markdown",
   "metadata": {},
   "source": [
    "<h1 style=\"color: orange;\">Fine-Tuning</h1>"
   ]
  },
  {
   "cell_type": "code",
   "execution_count": 27,
   "metadata": {},
   "outputs": [],
   "source": [
    "model = models.resnet50(weights=None)  # Initialize an empty ResNet50 model\n",
    "num_ftrs = model.fc.in_features\n",
    "num_classes = len(class_names)  # Dynamically set based on your dataset\n",
    "model.fc = nn.Linear(num_ftrs, num_classes)  # Update the final layer for your dataset\n",
    "model.load_state_dict(torch.load(\"./Base-Model/best_model.pth\", weights_only=True))  # Load saved weights\n",
    "model = model.to(device)  # Move the model to GPU/CPU"
   ]
  },
  {
   "cell_type": "markdown",
   "metadata": {},
   "source": [
    "<h2 style=\"color: orange;\">Unfreeze</h2>"
   ]
  },
  {
   "cell_type": "code",
   "execution_count": 28,
   "metadata": {},
   "outputs": [],
   "source": [
    "for name, param in model.named_parameters():\n",
    "    if 'layer3' in name or 'layer4' in name or 'fc' in name:\n",
    "        param.requires_grad = True\n",
    "    else:\n",
    "        param.requires_grad = False"
   ]
  },
  {
   "cell_type": "markdown",
   "metadata": {},
   "source": [
    "<h2 style=\"color: orange;\">Hyperparameters</h2>"
   ]
  },
  {
   "cell_type": "code",
   "execution_count": 29,
   "metadata": {},
   "outputs": [],
   "source": [
    "# Define criterion, optimizer, and scheduler\n",
    "criterion = nn.CrossEntropyLoss()\n",
    "\n",
    "# Use Adam optimizer, only for parameters that require gradients\n",
    "optimizer = optim.Adam(filter(lambda p: p.requires_grad, model.parameters()), lr=1e-4)\n",
    "\n",
    "# Scheduler to reduce learning rate periodically\n",
    "scheduler = lr_scheduler.StepLR(optimizer, step_size=7, gamma=0.1)"
   ]
  },
  {
   "cell_type": "markdown",
   "metadata": {},
   "source": [
    "<h2 style=\"color: orange;\">Training</h2>"
   ]
  },
  {
   "cell_type": "code",
   "execution_count": 31,
   "metadata": {},
   "outputs": [
    {
     "name": "stdout",
     "output_type": "stream",
     "text": [
      "Epoch 1/10\n",
      "----------\n",
      "Train Loss: 1.3291 Acc: 0.4678\n",
      "Val Loss: 1.4355 Acc: 0.4483\n",
      "Epoch 2/10\n",
      "----------\n",
      "Train Loss: 1.2603 Acc: 0.5156\n",
      "Val Loss: 1.4110 Acc: 0.4817\n",
      "Epoch 3/10\n",
      "----------\n",
      "Train Loss: 1.1952 Acc: 0.5422\n",
      "Val Loss: 1.4250 Acc: 0.4633\n",
      "Epoch 4/10\n",
      "----------\n",
      "Train Loss: 1.1243 Acc: 0.5678\n",
      "Val Loss: 1.4493 Acc: 0.4550\n",
      "Epoch 5/10\n",
      "----------\n",
      "Train Loss: 1.0564 Acc: 0.5972\n",
      "Val Loss: 1.4510 Acc: 0.4900\n",
      "Early stopping triggered after 3 epochs without improvement.\n",
      "Training complete\n"
     ]
    }
   ],
   "source": [
    "model, fine_tune_history = train(\n",
    "    model=model,\n",
    "    criterion=criterion,\n",
    "    optimizer=optimizer,\n",
    "    scheduler=scheduler,\n",
    "    dataloaders=dataloaders,\n",
    "    dataset_sizes=dataset_sizes,\n",
    "    device=device,\n",
    "    num_epochs=10,  # Fewer epochs for fine-tuning\n",
    "    patience=3,     # Early stopping if no improvement in validation accuracy\n",
    "    min_delta=0.01  # Minimum improvement to consider\n",
    ")"
   ]
  },
  {
   "cell_type": "code",
   "execution_count": 33,
   "metadata": {},
   "outputs": [
    {
     "data": {
      "image/png": "[encoded data removed]",
      "text/plain": [
       "<Figure size 1200x500 with 2 Axes>"
      ]
     },
     "metadata": {},
     "output_type": "display_data"
    }
   ],
   "source": [
    "plot_history(fine_tune_history)"
   ]
  },
  {
   "cell_type": "code",
   "execution_count": 34,
   "metadata": {},
   "outputs": [
    {
     "name": "stdout",
     "output_type": "stream",
     "text": [
      "Fine-tuned model saved!\n"
     ]
    }
   ],
   "source": [
    "torch.save(model.state_dict(), \"./Fine-Tuned/fine_tuned_model.pth\")\n",
    "print(\"Fine-tuned model saved!\")"
   ]
  },
  {
   "cell_type": "code",
   "execution_count": 36,
   "metadata": {},
   "outputs": [
    {
     "name": "stdout",
     "output_type": "stream",
     "text": [
      "Training history saved to './Fine-Tuned/model_history.json'\n"
     ]
    }
   ],
   "source": [
    "# Save training history\n",
    "with open('./Base-Model/model_history.json', 'w') as f:\n",
    "    json.dump(fine_tune_history, f)\n",
    "\n",
    "print(\"Training history saved to './Fine-Tuned/model_history.json'\")"
   ]
  },
  {
   "cell_type": "code",
   "execution_count": null,
   "metadata": {},
   "outputs": [],
   "source": []
  }
 ],
 "metadata": {
  "kernelspec": {
   "display_name": "torch",
   "language": "python",
   "name": "python3"
  },
  "language_info": {
   "codemirror_mode": {
    "name": "ipython",
    "version": 3
   },
   "file_extension": ".py",
   "mimetype": "text/x-python",
   "name": "python",
   "nbconvert_exporter": "python",
   "pygments_lexer": "ipython3",
   "version": "3.10.16"
  }
 },
 "nbformat": 4,
 "nbformat_minor": 2
}
