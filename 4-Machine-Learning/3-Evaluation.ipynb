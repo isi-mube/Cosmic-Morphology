{
 "cells": [
  {
   "cell_type": "code",
   "execution_count": 1,
   "metadata": {},
   "outputs": [],
   "source": [
    "import os\n",
    "import torch\n",
    "from torchvision import transforms # to transform the data\n",
    "from torchvision import datasets # to load the data\n",
    "from torch.utils.data import DataLoader # to work with the data\n",
    "import numpy as np\n",
    "import matplotlib.pyplot as plt\n",
    "from sklearn.metrics import classification_report, confusion_matrix, f1_score, recall_score, precision_score\n",
    "from torchvision import models # to get ResNet model\n",
    "from utils import evaluate_model"
   ]
  },
  {
   "cell_type": "markdown",
   "metadata": {},
   "source": [
    "<h1 style=\"color: orange;\">Paths</h1>"
   ]
  },
  {
   "cell_type": "code",
   "execution_count": 2,
   "metadata": {},
   "outputs": [],
   "source": [
    "current_path = os.getcwd()\n",
    "current_path = os.path.dirname(current_path)\n",
    "data_dir = os.path.join(current_path, \"3-Train-Val-Test-Split\")\n",
    "ml_dir = os.path.join(current_path, \"4-Machine-Learning\")\n",
    "model_dir = os.path.join(ml_dir, \"Base-Model\")\n",
    "metrics_dir = os.path.join(ml_dir, \"metrics\")"
   ]
  },
  {
   "cell_type": "markdown",
   "metadata": {},
   "source": [
    "<h2 style=\"color: orange;\">Processing Testing Images</h2>"
   ]
  },
  {
   "cell_type": "code",
   "execution_count": 3,
   "metadata": {},
   "outputs": [],
   "source": [
    "input_size = 224\n",
    "batch_size = 64\n",
    "device = torch.device(\"cuda\" if torch.cuda.is_available() else \"cpu\")\n",
    "\n",
    "data_transforms = {\n",
    "    'test': transforms.Compose([\n",
    "        transforms.Resize(int(input_size * 1.1)),\n",
    "        transforms.CenterCrop(input_size),\n",
    "        transforms.ToTensor(),\n",
    "        transforms.Normalize([0.485, 0.456, 0.406], [0.229, 0.224, 0.225])\n",
    "    ]),\n",
    "}"
   ]
  },
  {
   "cell_type": "markdown",
   "metadata": {},
   "source": [
    "<h2 style=\"color: orange;\">Loading</h2>"
   ]
  },
  {
   "cell_type": "code",
   "execution_count": 4,
   "metadata": {},
   "outputs": [],
   "source": [
    "image_datasets = {\n",
    "    'test': datasets.ImageFolder(\n",
    "        os.path.join(data_dir, 'test'), transform=data_transforms['test']\n",
    "    )\n",
    "}"
   ]
  },
  {
   "cell_type": "markdown",
   "metadata": {},
   "source": [
    "<h2 style=\"color: orange;\">Loader</h2>"
   ]
  },
  {
   "cell_type": "code",
   "execution_count": 5,
   "metadata": {},
   "outputs": [],
   "source": [
    "dataloaders = {\n",
    "    'test': DataLoader(image_datasets['test'], batch_size=batch_size, shuffle=False, num_workers=4)\n",
    "}"
   ]
  },
  {
   "cell_type": "code",
   "execution_count": 6,
   "metadata": {},
   "outputs": [
    {
     "name": "stdout",
     "output_type": "stream",
     "text": [
      "Classes: ['asteroid', 'comet', 'galaxy', 'nebula', 'planet', 'star']\n",
      "Test dataset size: 600\n"
     ]
    }
   ],
   "source": [
    "class_names = image_datasets['test'].classes\n",
    "print(\"Classes:\", class_names)\n",
    "print(\"Test dataset size:\", len(image_datasets['test']))\n"
   ]
  },
  {
   "cell_type": "markdown",
   "metadata": {},
   "source": [
    "<h2 style=\"color: orange;\">ResNet50 Model</h2>"
   ]
  },
  {
   "cell_type": "code",
   "execution_count": 7,
   "metadata": {},
   "outputs": [
    {
     "name": "stdout",
     "output_type": "stream",
     "text": [
      "Base model loaded.\n"
     ]
    },
    {
     "name": "stderr",
     "output_type": "stream",
     "text": [
      "/var/folders/7z/dp25t9yj1t7fql93jpgg11jm0000gn/T/ipykernel_48941/2345314154.py:5: FutureWarning: You are using `torch.load` with `weights_only=False` (the current default value), which uses the default pickle module implicitly. It is possible to construct malicious pickle data which will execute arbitrary code during unpickling (See https://github.com/pytorch/pytorch/blob/main/SECURITY.md#untrusted-models for more details). In a future release, the default value for `weights_only` will be flipped to `True`. This limits the functions that could be executed during unpickling. Arbitrary objects will no longer be allowed to be loaded via this mode unless they are explicitly allowlisted by the user via `torch.serialization.add_safe_globals`. We recommend you start setting `weights_only=True` for any use case where you don't have full control of the loaded file. Please open an issue on GitHub for any issues related to this experimental feature.\n",
      "  resnet.load_state_dict(torch.load(base_model_path))\n"
     ]
    }
   ],
   "source": [
    "base_model_path = os.path.join(model_dir, \"best_model.pth\")\n",
    "resnet = models.resnet50(weights=None)\n",
    "num_ftrs = resnet.fc.in_features\n",
    "resnet.fc = torch.nn.Linear(num_ftrs, len(class_names))\n",
    "resnet.load_state_dict(torch.load(base_model_path))\n",
    "resnet = resnet.to(device)\n",
    "print(\"Base model loaded.\")"
   ]
  },
  {
   "cell_type": "markdown",
   "metadata": {},
   "source": [
    "<h2 style=\"color: orange;\">Evaluate</h2>"
   ]
  },
  {
   "cell_type": "code",
   "execution_count": 8,
   "metadata": {},
   "outputs": [
    {
     "name": "stdout",
     "output_type": "stream",
     "text": [
      "Metrics saved to: /Users/isi.mube/Ironhack/Data-Curriculum/DSML-Master/Cosmic-Morphology/4-Machine-Learning\n"
     ]
    },
    {
     "data": {
      "text/plain": [
       "{'accuracy': 0.445,\n",
       " 'f1_score': 0.44264996022496206,\n",
       " 'recall': 0.445,\n",
       " 'precision': 0.44245466122572197,\n",
       " 'confusion_matrix_path': '/Users/isi.mube/Ironhack/Data-Curriculum/DSML-Master/Cosmic-Morphology/4-Machine-Learning/Baseline ResNet50_confusion_matrix.png',\n",
       " 'classification_report_path': '/Users/isi.mube/Ironhack/Data-Curriculum/DSML-Master/Cosmic-Morphology/4-Machine-Learning/Baseline ResNet50_classification_report.png'}"
      ]
     },
     "execution_count": 8,
     "metadata": {},
     "output_type": "execute_result"
    }
   ],
   "source": [
    "# Evaluate the baseline model\n",
    "evaluate_model(\n",
    "    model=resnet,\n",
    "    dataloaders=dataloaders,\n",
    "    device=device,\n",
    "    class_names=class_names,\n",
    "    model_name=\"Baseline ResNet50\",\n",
    "    architecture_details=\"Learning Rate: 1e-3, Epochs: 20\\nBatch Size: 64, Optimizer: Adam\"\n",
    ")"
   ]
  },
  {
   "cell_type": "markdown",
   "metadata": {},
   "source": [
    "<h2 style=\"color: orange;\">Fine-Tuned Model</h2>"
   ]
  },
  {
   "cell_type": "code",
   "execution_count": 9,
   "metadata": {},
   "outputs": [
    {
     "name": "stdout",
     "output_type": "stream",
     "text": [
      "Fine-tuned model loaded.\n"
     ]
    },
    {
     "name": "stderr",
     "output_type": "stream",
     "text": [
      "/var/folders/7z/dp25t9yj1t7fql93jpgg11jm0000gn/T/ipykernel_48941/1601869459.py:5: FutureWarning: You are using `torch.load` with `weights_only=False` (the current default value), which uses the default pickle module implicitly. It is possible to construct malicious pickle data which will execute arbitrary code during unpickling (See https://github.com/pytorch/pytorch/blob/main/SECURITY.md#untrusted-models for more details). In a future release, the default value for `weights_only` will be flipped to `True`. This limits the functions that could be executed during unpickling. Arbitrary objects will no longer be allowed to be loaded via this mode unless they are explicitly allowlisted by the user via `torch.serialization.add_safe_globals`. We recommend you start setting `weights_only=True` for any use case where you don't have full control of the loaded file. Please open an issue on GitHub for any issues related to this experimental feature.\n",
      "  fine_tuned_model.load_state_dict(torch.load(fine_tuned_model_path))\n"
     ]
    }
   ],
   "source": [
    "fine_dir = os.path.join(ml_dir, \"Fine-Tuned\")\n",
    "fine_tuned_model_path = os.path.join(fine_dir, \"fine_tuned_model.pth\")\n",
    "fine_tuned_model = models.resnet50(weights=None)\n",
    "fine_tuned_model.fc = torch.nn.Linear(num_ftrs, len(class_names))\n",
    "fine_tuned_model.load_state_dict(torch.load(fine_tuned_model_path))\n",
    "fine_tuned_model = fine_tuned_model.to(device)\n",
    "print(\"Fine-tuned model loaded.\")"
   ]
  },
  {
   "cell_type": "markdown",
   "metadata": {},
   "source": [
    "<h2 style=\"color: orange;\">Evaluate</h2>"
   ]
  },
  {
   "cell_type": "code",
   "execution_count": 10,
   "metadata": {},
   "outputs": [
    {
     "name": "stdout",
     "output_type": "stream",
     "text": [
      "Metrics saved to: /Users/isi.mube/Ironhack/Data-Curriculum/DSML-Master/Cosmic-Morphology/4-Machine-Learning\n"
     ]
    },
    {
     "data": {
      "text/plain": [
       "{'accuracy': 0.4483333333333333,\n",
       " 'f1_score': 0.44387468949067727,\n",
       " 'recall': 0.4483333333333333,\n",
       " 'precision': 0.446137965373033,\n",
       " 'confusion_matrix_path': '/Users/isi.mube/Ironhack/Data-Curriculum/DSML-Master/Cosmic-Morphology/4-Machine-Learning/Fine-Tuned ResNet50_confusion_matrix.png',\n",
       " 'classification_report_path': '/Users/isi.mube/Ironhack/Data-Curriculum/DSML-Master/Cosmic-Morphology/4-Machine-Learning/Fine-Tuned ResNet50_classification_report.png'}"
      ]
     },
     "execution_count": 10,
     "metadata": {},
     "output_type": "execute_result"
    }
   ],
   "source": [
    "# Evaluate the fine-tuned model\n",
    "evaluate_model(\n",
    "    model=fine_tuned_model,\n",
    "    dataloaders=dataloaders,\n",
    "    device=device,\n",
    "    class_names=class_names,\n",
    "    model_name=\"Fine-Tuned ResNet50\",\n",
    "    architecture_details=\"Learning Rate: 1e-4, Epochs: 10\\nBatch Size: 64, Optimizer: Adam (fine-tuned)\"\n",
    ")"
   ]
  }
 ],
 "metadata": {
  "kernelspec": {
   "display_name": "torch",
   "language": "python",
   "name": "python3"
  },
  "language_info": {
   "codemirror_mode": {
    "name": "ipython",
    "version": 3
   },
   "file_extension": ".py",
   "mimetype": "text/x-python",
   "name": "python",
   "nbconvert_exporter": "python",
   "pygments_lexer": "ipython3",
   "version": "3.10.16"
  }
 },
 "nbformat": 4,
 "nbformat_minor": 2
}
